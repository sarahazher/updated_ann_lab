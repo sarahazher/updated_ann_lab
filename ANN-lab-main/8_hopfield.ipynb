{
 "cells": [
  {
   "cell_type": "code",
   "execution_count": 3,
   "id": "0478994e-6851-4441-8655-e3e0b39ff427",
   "metadata": {},
   "outputs": [
    {
     "name": "stdout",
     "output_type": "stream",
     "text": [
      "Input vector: [ 1  1 -1 -1]\n",
      "Output vector: [ 1  1 -1 -1]\n",
      "\n",
      "Input vector: [ 1 -1  1 -1]\n",
      "Output vector: [ 1 -1  1 -1]\n",
      "\n",
      "Input vector: [-1  1 -1  1]\n",
      "Output vector: [-1  1 -1  1]\n",
      "\n",
      "Input vector: [-1 -1  1  1]\n",
      "Output vector: [-1 -1  1  1]\n",
      "\n"
     ]
    }
   ],
   "source": [
    "import numpy as np\n",
    "\n",
    "# Define the input vectors\n",
    "vectors = np.array([[1, 1, -1, -1],\n",
    "                    [1, -1, 1, -1],\n",
    "                    [-1, 1, -1, 1],\n",
    "                    [-1, -1, 1, 1]])\n",
    "\n",
    "# Define the weight matrix\n",
    "weights = np.zeros((4, 4))\n",
    "for i in range(4):\n",
    "    for j in range(4):\n",
    "        if i == j:\n",
    "            weights[i][j] = 0\n",
    "        else:\n",
    "            weights[i][j] = (vectors[i] @ vectors[j]) / 4\n",
    "\n",
    "# Define the activation function\n",
    "def activation_function(x):\n",
    "    if x >= 0:\n",
    "        return 1\n",
    "    else:\n",
    "        return -1\n",
    "\n",
    "# Define the Hopfield Network function\n",
    "def hopfield_network(x, weights):\n",
    "    y = np.copy(x)\n",
    "    for i in range(4):\n",
    "        sum = 0\n",
    "        for j in range(4):\n",
    "            sum += weights[i][j] * y[j]\n",
    "        y[i] = activation_function(sum)\n",
    "    return y\n",
    "\n",
    "# Test the Hopfield Network function\n",
    "for i in range(4):\n",
    "    print(\"Input vector:\", vectors[i])\n",
    "    output = hopfield_network(vectors[i], weights)\n",
    "    print(\"Output vector:\", output)\n",
    "    print()\n"
   ]
  },
  {
   "cell_type": "code",
   "execution_count": null,
   "id": "1cf8a366-5d08-4cf9-be75-5b4f54bd74eb",
   "metadata": {},
   "outputs": [],
   "source": []
  }
 ],
 "metadata": {
  "kernelspec": {
   "display_name": "Python 3 (ipykernel)",
   "language": "python",
   "name": "python3"
  },
  "language_info": {
   "codemirror_mode": {
    "name": "ipython",
    "version": 3
   },
   "file_extension": ".py",
   "mimetype": "text/x-python",
   "name": "python",
   "nbconvert_exporter": "python",
   "pygments_lexer": "ipython3",
   "version": "3.12.2"
  }
 },
 "nbformat": 4,
 "nbformat_minor": 5
}
